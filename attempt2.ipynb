{
 "cells": [
  {
   "cell_type": "code",
   "execution_count": null,
   "id": "7c82864d-686b-4191-9598-2298a4a966d4",
   "metadata": {},
   "outputs": [],
   "source": [
    "import pandas as pd\n",
    "import os\n",
    "from PIL import Image\n",
    "import numpy as np\n",
    "import tensorflow as tf\n",
    "from tensorflow.keras.applications import ResNet50\n",
    "from tensorflow.keras.models import Model\n",
    "from tensorflow.keras.layers import Dense, GlobalAveragePooling2D\n",
    "from tensorflow.keras.optimizers import Adam\n",
    "from tensorflow.keras.preprocessing.image import ImageDataGenerator\n",
    "import matplotlib.pyplot as plt\n",
    "from tensorflow.keras.utils import to_categorical\n",
    "from tensorflow.keras.applications.resnet50 import preprocess_input"
   ]
  },
  {
   "cell_type": "code",
   "execution_count": null,
   "id": "98017370-d961-4d2e-98fc-4bd3ab73f894",
   "metadata": {},
   "outputs": [],
   "source": [
    "df = pd.read_csv(\"AggregatePTData.csv\")"
   ]
  },
  {
   "cell_type": "code",
   "execution_count": null,
   "id": "43aabb1b-bc6b-4fca-b54a-99580a74ed81",
   "metadata": {},
   "outputs": [],
   "source": [
    "image_folder = \"all_images\""
   ]
  },
  {
   "cell_type": "code",
   "execution_count": null,
   "id": "0ff7bacb-2573-4b58-861e-ed5cc1b706cc",
   "metadata": {},
   "outputs": [],
   "source": [
    "image_list = []\n",
    "label_list = []\n",
    "\n",
    "for image_filename in os.listdir(image_folder):\n",
    "    if image_filename.endswith(\".png\"):\n",
    "        patient_row = df[df['file_name'] == image_filename]\n",
    "        image = Image.open(os.path.join(image_folder, image_filename))\n",
    "\n",
    "        # Resize image to 224x224 pixels\n",
    "        image = image.resize((224,224))\n",
    "\n",
    "        # Convert image to RGB\n",
    "        image = image.convert(\"RGB\")\n",
    "\n",
    "        # Convert the image to numpy array\n",
    "        image_array = np.array(image)\n",
    "\n",
    "        # Normalize array\n",
    "        image_array = preprocess_input(image_array)\n",
    "\n",
    "        image_list.append(image_array)\n",
    "        labels = patient_row.iloc[0].values[3:]\n",
    "        label_list.append(labels)\n",
    "        \n",
    "        #print(f\"Image: {image_filename}, Patient Data: {labels}\")\n",
    "\n",
    "image_list_np = np.array(image_list)"
   ]
  },
  {
   "cell_type": "code",
   "execution_count": null,
   "id": "319a9bd7-fb10-467f-a5e8-d56170336e58",
   "metadata": {},
   "outputs": [],
   "source": []
  },
  {
   "cell_type": "code",
   "execution_count": null,
   "id": "8ffe5f66-7ba8-4049-8663-c6467d5ebcf7",
   "metadata": {},
   "outputs": [],
   "source": [
    "modic_labels = [row[0] for row in label_list]\n",
    "up_endplate_labels = [row[1] for row in label_list]\n",
    "low_endplate_labels = [row[2] for row in label_list]\n",
    "spondylolisthesis_labels = [row[3] for row in label_list]\n",
    "herniation_labels = [row[4] for row in label_list]\n",
    "narrowing_labels = [row[5] for row in label_list]\n",
    "bulging_labels = [row[6] for row in label_list]\n",
    "pfirrman_labels = [row[7] for row in label_list]"
   ]
  },
  {
   "cell_type": "code",
   "execution_count": null,
   "id": "7e8ace99-df97-4ae1-aacd-6402a1c1e0de",
   "metadata": {},
   "outputs": [],
   "source": [
    "label_dict = {\n",
    "    'disc_herniation': np.array(herniation_labels),\n",
    "    'disc_narrowing': np.array(narrowing_labels),\n",
    "    'disc_bulging': np.array(bulging_labels),\n",
    "    'modic_type': np.array(modic_labels),\n",
    "    'pfirrman_grade': np.array(pfirrman_labels),\n",
    "    'up_endplate': np.array(up_endplate_labels),\n",
    "    'low_endplate': np.array(low_endplate_labels),\n",
    "    'spondylolisthesis': np.array(spondylolisthesis_labels)\n",
    "}"
   ]
  },
  {
   "cell_type": "code",
   "execution_count": null,
   "id": "fcfbaf11-c3f7-4198-a6eb-8fd8ec335871",
   "metadata": {},
   "outputs": [],
   "source": []
  },
  {
   "cell_type": "code",
   "execution_count": null,
   "id": "c198ef2c-169c-4c5d-9d32-c8983740a785",
   "metadata": {},
   "outputs": [],
   "source": [
    "base_model = ResNet50(weights='imagenet', include_top=False, input_shape=(224, 224, 3))\n",
    "for layer in base_model.layers:\n",
    "    layer.trainable=False"
   ]
  },
  {
   "cell_type": "code",
   "execution_count": null,
   "id": "502ec4af-b48f-4b45-b88c-05c42502153f",
   "metadata": {},
   "outputs": [],
   "source": [
    "x = base_model.output\n",
    "x = GlobalAveragePooling2D()(x)"
   ]
  },
  {
   "cell_type": "code",
   "execution_count": null,
   "id": "a4867aea-7865-4126-be91-7d1647287154",
   "metadata": {},
   "outputs": [],
   "source": [
    "herniation_output = Dense(1, activation='sigmoid', name='disc_herniation')(x)\n",
    "narrowing_output = Dense(1, activation='sigmoid', name='disc_narrowing')(x)\n",
    "bulging_output = Dense(1, activation='sigmoid', name='disc_bulging')(x)\n",
    "modic_output = Dense(1, activation='linear', name='modic_type')(x)\n",
    "pfirrman_output = Dense(1, activation='linear', name='pfirrman_grade')(x)\n",
    "up_endplate_output = Dense(1, activation='sigmoid', name='up_endplate')(x)\n",
    "low_endplate_output = Dense(1, activation='sigmoid', name='low_endplate')(x)\n",
    "spondylolisthesis_output = Dense(1, activation='sigmoid', name='spondylolisthesis')(x)"
   ]
  },
  {
   "cell_type": "code",
   "execution_count": null,
   "id": "b6576036-dab7-4f4b-a8c7-69fc8b78ee6f",
   "metadata": {},
   "outputs": [],
   "source": [
    "model = Model(inputs=base_model.input, outputs=[\n",
    "    herniation_output,\n",
    "    narrowing_output,\n",
    "    bulging_output,\n",
    "    modic_output,\n",
    "    pfirrman_output,\n",
    "    up_endplate_output,\n",
    "    low_endplate_output,\n",
    "    spondylolisthesis_output\n",
    "])"
   ]
  },
  {
   "cell_type": "code",
   "execution_count": null,
   "id": "c527cc77-7bdf-4c49-807d-380648cb3856",
   "metadata": {},
   "outputs": [],
   "source": [
    "model.compile(\n",
    "    optimizer='Adam',\n",
    "    loss={\n",
    "        'disc_herniation': 'binary_crossentropy',\n",
    "        'disc_narrowing': 'binary_crossentropy',\n",
    "        'disc_bulging': 'binary_crossentropy',\n",
    "        'modic_type': 'mean_squared_error',\n",
    "        'pfirrman_grade': 'mean_squared_error',\n",
    "        'up_endplate': 'binary_crossentropy',\n",
    "        'low_endplate': 'binary_crossentropy',\n",
    "        'spondylolisthesis': 'binary_crossentropy'\n",
    "    },\n",
    "    metrics={\n",
    "        'disc_herniation': 'accuracy',\n",
    "        'disc_narrowing': 'accuracy',\n",
    "        'disc_bulging': 'accuracy',\n",
    "        'modic_type': 'mae',\n",
    "        'pfirrman_grade': 'mae',\n",
    "        'up_endplate': 'accuracy',\n",
    "        'low_endplate': 'accuracy',\n",
    "        'spondylolisthesis': 'accuracy'\n",
    "    }\n",
    ")"
   ]
  },
  {
   "cell_type": "code",
   "execution_count": null,
   "id": "ff882376-f80e-43f2-9ecd-e05203b76c63",
   "metadata": {
    "scrolled": true
   },
   "outputs": [],
   "source": [
    "num = 120\n",
    "print(\"First Image Shape:\", image_list[num].shape)\n",
    "print(\"Modic Labels:\", modic_labels[num])\n",
    "print(\"UP Endplate Label:\", up_endplate_labels[num])\n",
    "print(\"LOW Endplate Label:\", low_endplate_labels[num])\n",
    "print(\"Spondylolisthesis Label:\", spondylolisthesis_labels[num])\n",
    "print(\"Disc Herniation Label:\", herniation_labels[num])\n",
    "print(\"Disc Narrowing Label:\", narrowing_labels[num])\n",
    "print(\"Disc Bulging Label:\", bulging_labels[num])\n",
    "print(\"Pfirmann Label:\", pfirrman_labels[num])"
   ]
  },
  {
   "cell_type": "code",
   "execution_count": null,
   "id": "0998d37d-3d51-41b7-8cb7-56f2b8f2be9b",
   "metadata": {},
   "outputs": [],
   "source": [
    "history = model.fit(\n",
    "    image_list_np, label_dict,\n",
    "    batch_size=32,\n",
    "    epochs=10,\n",
    "    verbose=1\n",
    ")"
   ]
  },
  {
   "cell_type": "code",
   "execution_count": null,
   "id": "4556b50b-f80d-4067-9629-01c33e96a00f",
   "metadata": {
    "scrolled": true
   },
   "outputs": [],
   "source": [
    "image = Image.open(os.path.join(image_folder, '2_t1.png'))\n",
    "\n",
    "# Resize image to 224x224 pixels\n",
    "image_resized = image.resize((224,224))\n",
    "\n",
    "# Convert image to RGB\n",
    "image_recolored = image_resized.convert(\"RGB\")\n",
    "\n",
    "# Convert the image to numpy array\n",
    "image_array = np.array(image_recolored)\n",
    "\n",
    "# Normalize array\n",
    "image_array = preprocess_input(image_array)\n",
    "image_array = np.expand_dims(image_array, 0)\n",
    "predictions = model.predict(image_array)"
   ]
  },
  {
   "cell_type": "code",
   "execution_count": null,
   "id": "f55bb4e3-ab4f-423c-b64c-f6e1ef1c5aff",
   "metadata": {},
   "outputs": [],
   "source": [
    "print(\"Disc Herniation: \")\n",
    "print(predictions[0][0][0])\n",
    "print(\"Disc Narrowing: \")\n",
    "print(predictions[1][0][0])\n",
    "print(\"Disc Bulging: \")\n",
    "print(predictions[2][0][0])\n",
    "print(\"Pfirmann Grade: \")\n",
    "print(predictions[3][0][0])\n",
    "print(\"Up-Endplate: \")\n",
    "print(predictions[4][0][0])\n",
    "print(\"Low-Endplate: \")\n",
    "print(predictions[5][0][0])\n",
    "print(\"Spondylo: \")\n",
    "print(predictions[6][0][0])\n"
   ]
  },
  {
   "cell_type": "code",
   "execution_count": null,
   "id": "13d60944-3a34-44ca-ab12-5bb61aad3061",
   "metadata": {},
   "outputs": [],
   "source": []
  },
  {
   "cell_type": "code",
   "execution_count": null,
   "id": "48f29639-38fc-4717-b59e-021724b3acac",
   "metadata": {},
   "outputs": [],
   "source": []
  },
  {
   "cell_type": "code",
   "execution_count": null,
   "id": "25a4ec9f-62ac-4419-9e1a-a388998335e5",
   "metadata": {},
   "outputs": [],
   "source": []
  }
 ],
 "metadata": {
  "kernelspec": {
   "display_name": "Python 3 (ipykernel)",
   "language": "python",
   "name": "python3"
  },
  "language_info": {
   "codemirror_mode": {
    "name": "ipython",
    "version": 3
   },
   "file_extension": ".py",
   "mimetype": "text/x-python",
   "name": "python",
   "nbconvert_exporter": "python",
   "pygments_lexer": "ipython3",
   "version": "3.12.7"
  }
 },
 "nbformat": 4,
 "nbformat_minor": 5
}
