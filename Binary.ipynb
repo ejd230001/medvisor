{
 "cells": [
  {
   "cell_type": "code",
   "execution_count": 1,
   "id": "74443269-c41a-44b0-8dd3-4d3c9b7078ed",
   "metadata": {},
   "outputs": [],
   "source": [
    "import pandas as pd\n",
    "import os\n",
    "from PIL import Image\n",
    "import numpy as np\n",
    "import tensorflow as tf\n",
    "from tensorflow.keras.applications import ResNet50\n",
    "from tensorflow.keras.models import Model\n",
    "from tensorflow.keras.layers import Dense, GlobalAveragePooling2D\n",
    "from tensorflow.keras.optimizers import Adam\n",
    "from tensorflow.keras.preprocessing.image import ImageDataGenerator\n",
    "import matplotlib.pyplot as plt\n",
    "from tensorflow.keras.utils import to_categorical\n",
    "from tensorflow.keras.applications.resnet50 import preprocess_input\n",
    "from collections import OrderedDict"
   ]
  },
  {
   "cell_type": "code",
   "execution_count": 2,
   "id": "1d5c5a47-85f0-4f44-aff6-e9e8d52c0b79",
   "metadata": {},
   "outputs": [],
   "source": [
    "image_folder = \"all_images\"\n",
    "image_list = []\n",
    "label_list = []\n",
    "up_endplates = []\n",
    "low_endplates = []\n",
    "disc_herniation = []\n",
    "disc_narrowing = []\n",
    "disc_bulging = []\n",
    "spondylolisthesis = []\n",
    "\n",
    "df = pd.read_csv('AggregatePTData.csv')"
   ]
  },
  {
   "cell_type": "code",
   "execution_count": 3,
   "id": "6a2cad52-3618-41b3-9b41-d1d049de2ca0",
   "metadata": {},
   "outputs": [],
   "source": [
    "for image_filename in os.listdir(image_folder):\n",
    "    if image_filename.endswith(\".png\"):\n",
    "        image = Image.open(os.path.join(image_folder, image_filename))\n",
    "        # Resize image to 224x224 pixels\n",
    "        image = image.resize((224,224))\n",
    "        # Convert image to RGB\n",
    "        image = image.convert(\"RGB\")\n",
    "        # Convert the image to numpy array\n",
    "        image_array = np.array(image)\n",
    "        # Normalize array\n",
    "        image_array = preprocess_input(image_array)\n",
    "        image_list.append(image_array)\n",
    "        \n",
    "        row = df[df['file_name'] == image_filename]\n",
    "        up = row.iloc[0]['UP endplate']\n",
    "        up_endplates.append(up)\n",
    "        low = row.iloc[0]['LOW endplate']\n",
    "        low_endplates.append(low)\n",
    "        herniation = row.iloc[0]['Disc herniation']\n",
    "        disc_herniation.append(herniation)\n",
    "        narrowing = row.iloc[0]['Disc narrowing']\n",
    "        disc_narrowing.append(narrowing)\n",
    "        bulging = row.iloc[0]['Disc bulging']\n",
    "        disc_bulging.append(bulging)\n",
    "        spondy = row.iloc[0]['Spondylolisthesis']\n",
    "        spondylolisthesis.append(spondy)\n",
    "\n",
    "image_list_np = np.array(image_list)\n",
    "up_endplates_np = np.array(up_endplates)\n",
    "up_endplates_np = np.round(up_endplates_np).astype(int)\n",
    "low_endplates_np = np.array(low_endplates)\n",
    "low_endplates_np = np.round(low_endplates_np).astype(int)\n",
    "disc_herniation_np = np.array(disc_herniation)\n",
    "disc_herniation_np = np.round(disc_herniation_np).astype(int)\n",
    "disc_narrowing_np = np.array(disc_narrowing)\n",
    "disc_narrowing_np = np.round(disc_narrowing_np).astype(int)\n",
    "disc_bulging_np = np.array(disc_bulging)\n",
    "disc_bulging_np = np.round(disc_bulging_np).astype(int)\n",
    "spondylolisthesis_np = np.array(spondylolisthesis)\n",
    "spondylolisthesis_np = np.round(spondylolisthesis_np).astype(int)"
   ]
  },
  {
   "cell_type": "code",
   "execution_count": null,
   "id": "72265a16-e366-41d1-b73b-a28336cf7d23",
   "metadata": {},
   "outputs": [],
   "source": []
  },
  {
   "cell_type": "code",
   "execution_count": 4,
   "id": "3a3f80ca-a2bd-4e46-a786-de1214b5c58b",
   "metadata": {},
   "outputs": [],
   "source": [
    "base_model = ResNet50(weights='imagenet', include_top=False, input_shape=(224, 224, 3))\n",
    "base_model.trainable = False\n",
    "x = base_model.output\n",
    "x = GlobalAveragePooling2D()(x)  # Global average pooling to reduce dimensions\n",
    "x = Dense(1024, activation='relu')(x)  # Fully connected layer\n",
    "up_predictions = Dense(1, activation='sigmoid', name='up_output')(x)\n",
    "low_predictions = Dense(1, activation='sigmoid', name='low_output')(x)\n",
    "herniation_predictions = Dense(1, activation='sigmoid', name='herniation_output')(x)\n",
    "narrowing_predictions = Dense(1, activation='sigmoid', name='narrowing_output')(x)\n",
    "bulging_predictions = Dense(1, activation='sigmoid', name='bulging_output')(x)\n",
    "spondy_predictions = Dense(1, activation='sigmoid', name='spondy_output')(x)"
   ]
  },
  {
   "cell_type": "code",
   "execution_count": 5,
   "id": "da1ff725-b21f-4db3-afd2-7bd4f51c9d70",
   "metadata": {},
   "outputs": [],
   "source": [
    "model = Model(inputs=base_model.input, outputs=[up_predictions, low_predictions, herniation_predictions, narrowing_predictions, bulging_predictions, spondy_predictions])\n",
    "model.compile(optimizer='adam', loss={\n",
    "        'up_output': 'binary_crossentropy',\n",
    "        'low_output': 'binary_crossentropy',\n",
    "        'herniation_output': 'binary_crossentropy',\n",
    "        'narrowing_output': 'binary_crossentropy',\n",
    "        'bulging_output': 'binary_crossentropy',\n",
    "        'spondy_output': 'binary_crossentropy'\n",
    "    },          \n",
    "    metrics={\n",
    "        'up_output': 'accuracy',\n",
    "        'low_output': 'accuracy',\n",
    "        'herniation_output': 'accuracy',\n",
    "        'narrowing_output': 'accuracy',\n",
    "        'bulging_output': 'accuracy',\n",
    "        'spondy_output': 'accuracy'\n",
    "    }\n",
    ")"
   ]
  },
  {
   "cell_type": "code",
   "execution_count": null,
   "id": "c54efd51-33d1-41b4-a847-a3eafa79c5fd",
   "metadata": {},
   "outputs": [],
   "source": []
  },
  {
   "cell_type": "code",
   "execution_count": 6,
   "id": "25c420a1-67bc-4e16-8ec2-b25d71ffd6e4",
   "metadata": {},
   "outputs": [
    {
     "name": "stdout",
     "output_type": "stream",
     "text": [
      "Epoch 1/10\n",
      "\u001b[1m9/9\u001b[0m \u001b[32m━━━━━━━━━━━━━━━━━━━━\u001b[0m\u001b[37m\u001b[0m \u001b[1m20s\u001b[0m 2s/step - bulging_output_accuracy: 0.5742 - bulging_output_loss: 0.9393 - herniation_output_accuracy: 1.0000 - herniation_output_loss: 0.0761 - loss: 3.7713 - low_output_accuracy: 0.5573 - low_output_loss: 0.7027 - narrowing_output_accuracy: 0.6501 - narrowing_output_loss: 0.6723 - spondy_output_accuracy: 0.7060 - spondy_output_loss: 0.4533 - up_output_accuracy: 0.5313 - up_output_loss: 0.9276 - val_bulging_output_accuracy: 0.7671 - val_bulging_output_loss: 0.5553 - val_herniation_output_accuracy: 1.0000 - val_herniation_output_loss: 2.2325e-06 - val_loss: 2.2982 - val_low_output_accuracy: 0.6849 - val_low_output_loss: 0.7382 - val_narrowing_output_accuracy: 0.8493 - val_narrowing_output_loss: 0.3757 - val_spondy_output_accuracy: 1.0000 - val_spondy_output_loss: 8.2564e-15 - val_up_output_accuracy: 0.5479 - val_up_output_loss: 0.6768\n",
      "Epoch 2/10\n",
      "\u001b[1m9/9\u001b[0m \u001b[32m━━━━━━━━━━━━━━━━━━━━\u001b[0m\u001b[37m\u001b[0m \u001b[1m12s\u001b[0m 1s/step - bulging_output_accuracy: 0.6718 - bulging_output_loss: 0.5790 - herniation_output_accuracy: 1.0000 - herniation_output_loss: 6.1919e-07 - loss: 2.0779 - low_output_accuracy: 0.6608 - low_output_loss: 0.6383 - narrowing_output_accuracy: 0.8344 - narrowing_output_loss: 0.3714 - spondy_output_accuracy: 1.0000 - spondy_output_loss: 3.3931e-16 - up_output_accuracy: 0.7769 - up_output_loss: 0.4892 - val_bulging_output_accuracy: 0.6164 - val_bulging_output_loss: 0.6047 - val_herniation_output_accuracy: 1.0000 - val_herniation_output_loss: 1.6732e-07 - val_loss: 2.2880 - val_low_output_accuracy: 0.6301 - val_low_output_loss: 0.7370 - val_narrowing_output_accuracy: 0.8493 - val_narrowing_output_loss: 0.3615 - val_spondy_output_accuracy: 1.0000 - val_spondy_output_loss: 1.0883e-16 - val_up_output_accuracy: 0.6164 - val_up_output_loss: 0.6354\n",
      "Epoch 3/10\n",
      "\u001b[1m9/9\u001b[0m \u001b[32m━━━━━━━━━━━━━━━━━━━━\u001b[0m\u001b[37m\u001b[0m \u001b[1m12s\u001b[0m 1s/step - bulging_output_accuracy: 0.7620 - bulging_output_loss: 0.5089 - herniation_output_accuracy: 1.0000 - herniation_output_loss: 5.9620e-08 - loss: 1.7148 - low_output_accuracy: 0.7520 - low_output_loss: 0.5294 - narrowing_output_accuracy: 0.8797 - narrowing_output_loss: 0.2807 - spondy_output_accuracy: 1.0000 - spondy_output_loss: 1.4657e-17 - up_output_accuracy: 0.8267 - up_output_loss: 0.3959 - val_bulging_output_accuracy: 0.7123 - val_bulging_output_loss: 0.5138 - val_herniation_output_accuracy: 1.0000 - val_herniation_output_loss: 5.7680e-08 - val_loss: 2.2162 - val_low_output_accuracy: 0.6027 - val_low_output_loss: 0.7757 - val_narrowing_output_accuracy: 0.8493 - val_narrowing_output_loss: 0.3626 - val_spondy_output_accuracy: 1.0000 - val_spondy_output_loss: 3.1530e-17 - val_up_output_accuracy: 0.6438 - val_up_output_loss: 0.6812\n",
      "Epoch 4/10\n",
      "\u001b[1m9/9\u001b[0m \u001b[32m━━━━━━━━━━━━━━━━━━━━\u001b[0m\u001b[37m\u001b[0m \u001b[1m12s\u001b[0m 1s/step - bulging_output_accuracy: 0.8312 - bulging_output_loss: 0.3653 - herniation_output_accuracy: 1.0000 - herniation_output_loss: 2.2952e-08 - loss: 1.2331 - low_output_accuracy: 0.8710 - low_output_loss: 0.3402 - narrowing_output_accuracy: 0.9167 - narrowing_output_loss: 0.1919 - spondy_output_accuracy: 1.0000 - spondy_output_loss: 5.4262e-18 - up_output_accuracy: 0.8705 - up_output_loss: 0.3357 - val_bulging_output_accuracy: 0.8219 - val_bulging_output_loss: 0.4547 - val_herniation_output_accuracy: 1.0000 - val_herniation_output_loss: 3.7588e-08 - val_loss: 2.2928 - val_low_output_accuracy: 0.5890 - val_low_output_loss: 0.8244 - val_narrowing_output_accuracy: 0.7534 - val_narrowing_output_loss: 0.4527 - val_spondy_output_accuracy: 1.0000 - val_spondy_output_loss: 2.5036e-17 - val_up_output_accuracy: 0.6712 - val_up_output_loss: 0.7348\n",
      "Epoch 5/10\n",
      "\u001b[1m9/9\u001b[0m \u001b[32m━━━━━━━━━━━━━━━━━━━━\u001b[0m\u001b[37m\u001b[0m \u001b[1m12s\u001b[0m 1s/step - bulging_output_accuracy: 0.8878 - bulging_output_loss: 0.2987 - herniation_output_accuracy: 1.0000 - herniation_output_loss: 1.6236e-08 - loss: 1.0135 - low_output_accuracy: 0.8947 - low_output_loss: 0.2629 - narrowing_output_accuracy: 0.8894 - narrowing_output_loss: 0.2211 - spondy_output_accuracy: 1.0000 - spondy_output_loss: 6.6331e-18 - up_output_accuracy: 0.9151 - up_output_loss: 0.2309 - val_bulging_output_accuracy: 0.7808 - val_bulging_output_loss: 0.4469 - val_herniation_output_accuracy: 1.0000 - val_herniation_output_loss: 3.1777e-08 - val_loss: 2.3691 - val_low_output_accuracy: 0.6027 - val_low_output_loss: 0.8637 - val_narrowing_output_accuracy: 0.8630 - val_narrowing_output_loss: 0.3806 - val_spondy_output_accuracy: 1.0000 - val_spondy_output_loss: 1.9567e-17 - val_up_output_accuracy: 0.6301 - val_up_output_loss: 0.8381\n",
      "Epoch 6/10\n",
      "\u001b[1m9/9\u001b[0m \u001b[32m━━━━━━━━━━━━━━━━━━━━\u001b[0m\u001b[37m\u001b[0m \u001b[1m13s\u001b[0m 1s/step - bulging_output_accuracy: 0.9558 - bulging_output_loss: 0.2353 - herniation_output_accuracy: 1.0000 - herniation_output_loss: 1.2661e-08 - loss: 0.7721 - low_output_accuracy: 0.9377 - low_output_loss: 0.2110 - narrowing_output_accuracy: 0.9612 - narrowing_output_loss: 0.1236 - spondy_output_accuracy: 1.0000 - spondy_output_loss: 4.4055e-18 - up_output_accuracy: 0.9362 - up_output_loss: 0.2022 - val_bulging_output_accuracy: 0.7945 - val_bulging_output_loss: 0.4407 - val_herniation_output_accuracy: 1.0000 - val_herniation_output_loss: 3.0074e-08 - val_loss: 2.4585 - val_low_output_accuracy: 0.6027 - val_low_output_loss: 0.9209 - val_narrowing_output_accuracy: 0.8493 - val_narrowing_output_loss: 0.3884 - val_spondy_output_accuracy: 1.0000 - val_spondy_output_loss: 1.4720e-17 - val_up_output_accuracy: 0.6164 - val_up_output_loss: 0.8774\n",
      "Epoch 7/10\n",
      "\u001b[1m9/9\u001b[0m \u001b[32m━━━━━━━━━━━━━━━━━━━━\u001b[0m\u001b[37m\u001b[0m \u001b[1m13s\u001b[0m 1s/step - bulging_output_accuracy: 0.9523 - bulging_output_loss: 0.1921 - herniation_output_accuracy: 1.0000 - herniation_output_loss: 1.1789e-08 - loss: 0.6302 - low_output_accuracy: 0.9580 - low_output_loss: 0.1642 - narrowing_output_accuracy: 0.9645 - narrowing_output_loss: 0.1152 - spondy_output_accuracy: 1.0000 - spondy_output_loss: 2.7462e-18 - up_output_accuracy: 0.9542 - up_output_loss: 0.1586 - val_bulging_output_accuracy: 0.7671 - val_bulging_output_loss: 0.4439 - val_herniation_output_accuracy: 1.0000 - val_herniation_output_loss: 3.1039e-08 - val_loss: 2.6120 - val_low_output_accuracy: 0.6438 - val_low_output_loss: 1.0467 - val_narrowing_output_accuracy: 0.8630 - val_narrowing_output_loss: 0.3901 - val_spondy_output_accuracy: 1.0000 - val_spondy_output_loss: 1.6740e-17 - val_up_output_accuracy: 0.6027 - val_up_output_loss: 0.9601\n",
      "Epoch 8/10\n",
      "\u001b[1m9/9\u001b[0m \u001b[32m━━━━━━━━━━━━━━━━━━━━\u001b[0m\u001b[37m\u001b[0m \u001b[1m12s\u001b[0m 1s/step - bulging_output_accuracy: 0.9626 - bulging_output_loss: 0.1971 - herniation_output_accuracy: 1.0000 - herniation_output_loss: 1.5449e-08 - loss: 0.6986 - low_output_accuracy: 0.9394 - low_output_loss: 0.1837 - narrowing_output_accuracy: 0.9209 - narrowing_output_loss: 0.1599 - spondy_output_accuracy: 1.0000 - spondy_output_loss: 5.4947e-18 - up_output_accuracy: 0.9460 - up_output_loss: 0.1579 - val_bulging_output_accuracy: 0.8082 - val_bulging_output_loss: 0.5204 - val_herniation_output_accuracy: 1.0000 - val_herniation_output_loss: 2.5747e-08 - val_loss: 2.8859 - val_low_output_accuracy: 0.6301 - val_low_output_loss: 1.1019 - val_narrowing_output_accuracy: 0.8219 - val_narrowing_output_loss: 0.4136 - val_spondy_output_accuracy: 1.0000 - val_spondy_output_loss: 2.2392e-17 - val_up_output_accuracy: 0.5616 - val_up_output_loss: 1.0644\n",
      "Epoch 9/10\n",
      "\u001b[1m9/9\u001b[0m \u001b[32m━━━━━━━━━━━━━━━━━━━━\u001b[0m\u001b[37m\u001b[0m \u001b[1m12s\u001b[0m 1s/step - bulging_output_accuracy: 0.9536 - bulging_output_loss: 0.1925 - herniation_output_accuracy: 1.0000 - herniation_output_loss: 1.2860e-08 - loss: 0.5568 - low_output_accuracy: 0.9773 - low_output_loss: 0.1315 - narrowing_output_accuracy: 0.9800 - narrowing_output_loss: 0.0783 - spondy_output_accuracy: 1.0000 - spondy_output_loss: 6.3313e-18 - up_output_accuracy: 0.9689 - up_output_loss: 0.1545 - val_bulging_output_accuracy: 0.7808 - val_bulging_output_loss: 0.4291 - val_herniation_output_accuracy: 1.0000 - val_herniation_output_loss: 2.9047e-08 - val_loss: 2.9125 - val_low_output_accuracy: 0.6301 - val_low_output_loss: 1.1925 - val_narrowing_output_accuracy: 0.8219 - val_narrowing_output_loss: 0.4524 - val_spondy_output_accuracy: 1.0000 - val_spondy_output_loss: 2.5134e-17 - val_up_output_accuracy: 0.6027 - val_up_output_loss: 1.0575\n",
      "Epoch 10/10\n",
      "\u001b[1m9/9\u001b[0m \u001b[32m━━━━━━━━━━━━━━━━━━━━\u001b[0m\u001b[37m\u001b[0m \u001b[1m12s\u001b[0m 1s/step - bulging_output_accuracy: 0.9588 - bulging_output_loss: 0.1600 - herniation_output_accuracy: 1.0000 - herniation_output_loss: 1.6559e-08 - loss: 0.5287 - low_output_accuracy: 0.9465 - low_output_loss: 0.1647 - narrowing_output_accuracy: 0.9785 - narrowing_output_loss: 0.0744 - spondy_output_accuracy: 1.0000 - spondy_output_loss: 9.4056e-18 - up_output_accuracy: 0.9670 - up_output_loss: 0.1295 - val_bulging_output_accuracy: 0.8356 - val_bulging_output_loss: 0.4327 - val_herniation_output_accuracy: 1.0000 - val_herniation_output_loss: 3.6151e-08 - val_loss: 2.8989 - val_low_output_accuracy: 0.5616 - val_low_output_loss: 1.2061 - val_narrowing_output_accuracy: 0.8219 - val_narrowing_output_loss: 0.4752 - val_spondy_output_accuracy: 1.0000 - val_spondy_output_loss: 2.6874e-17 - val_up_output_accuracy: 0.6164 - val_up_output_loss: 1.0520\n"
     ]
    }
   ],
   "source": [
    "history = model.fit(\n",
    "    image_list_np,            # Input images\n",
    "    [up_endplates_np, low_endplates_np, disc_herniation_np, disc_narrowing_np, disc_bulging_np, spondylolisthesis_np],\n",
    "    batch_size=32,\n",
    "    epochs=10,\n",
    "    validation_split=0.2,     # Split 20% of data for validation\n",
    "    verbose=1                 # Set to 1 to see training progress\n",
    ")"
   ]
  },
  {
   "cell_type": "code",
   "execution_count": 7,
   "id": "bf8af678-130a-4b8a-ad5e-23dc198730b3",
   "metadata": {},
   "outputs": [
    {
     "name": "stdout",
     "output_type": "stream",
     "text": [
      "\u001b[1m1/1\u001b[0m \u001b[32m━━━━━━━━━━━━━━━━━━━━\u001b[0m\u001b[37m\u001b[0m \u001b[1m1s\u001b[0m 1s/step\n",
      "Probability of Up-Endplate: 0.9834853410720825\n",
      "Probability of Low-Endplate: 0.9761836528778076\n",
      "Probability of Disc-Herniation: 2.4905928430740687e-09\n",
      "Probability of Disc-Narrowing: 0.9582281112670898\n",
      "Probability of Disc-Bulging: 0.9859817028045654\n",
      "Probability of Spondylolisthesis: 7.191185774344098e-20\n"
     ]
    }
   ],
   "source": [
    "test_image_path = 'all_images/10_t2.png'\n",
    "\n",
    "# Load, resize, and preprocess the test image\n",
    "img = Image.open(test_image_path).convert('RGB')\n",
    "img_resized = img.resize((224, 224))\n",
    "img_array = np.array(img_resized)\n",
    "\n",
    "# Preprocess the image for ResNet50\n",
    "img_preprocessed = tf.keras.applications.resnet50.preprocess_input(img_array)\n",
    "img_preprocessed = np.expand_dims(img_preprocessed, axis=0)  # Add batch dimension\n",
    "\n",
    "# Run the prediction\n",
    "predicted_probabilities = model.predict(img_preprocessed)\n",
    "print(f\"Probability of Up-Endplate: {predicted_probabilities[0][0][0]}\")\n",
    "print(f\"Probability of Low-Endplate: {predicted_probabilities[1][0][0]}\")\n",
    "print(f\"Probability of Disc-Herniation: {predicted_probabilities[2][0][0]}\")\n",
    "print(f\"Probability of Disc-Narrowing: {predicted_probabilities[3][0][0]}\")\n",
    "print(f\"Probability of Disc-Bulging: {predicted_probabilities[4][0][0]}\")\n",
    "print(f\"Probability of Spondylolisthesis: {predicted_probabilities[5][0][0]}\")"
   ]
  },
  {
   "cell_type": "code",
   "execution_count": null,
   "id": "4bad646b-7546-4d27-9208-344aaf9add53",
   "metadata": {},
   "outputs": [],
   "source": [
    "model.summary()"
   ]
  },
  {
   "cell_type": "code",
   "execution_count": 8,
   "id": "795e59ff-6e75-464b-968d-4f9f24745790",
   "metadata": {},
   "outputs": [],
   "source": [
    "model.save('binaryPredictions.keras')"
   ]
  },
  {
   "cell_type": "code",
   "execution_count": null,
   "id": "24579fa5-8221-4aab-b9f5-37d38d93ae5f",
   "metadata": {},
   "outputs": [],
   "source": []
  }
 ],
 "metadata": {
  "kernelspec": {
   "display_name": "Python 3 (ipykernel)",
   "language": "python",
   "name": "python3"
  },
  "language_info": {
   "codemirror_mode": {
    "name": "ipython",
    "version": 3
   },
   "file_extension": ".py",
   "mimetype": "text/x-python",
   "name": "python",
   "nbconvert_exporter": "python",
   "pygments_lexer": "ipython3",
   "version": "3.12.7"
  }
 },
 "nbformat": 4,
 "nbformat_minor": 5
}
