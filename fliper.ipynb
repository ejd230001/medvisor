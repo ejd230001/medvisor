{
 "cells": [
  {
   "cell_type": "code",
   "execution_count": 1,
   "id": "1b703866-6c35-40ee-9152-5d46bdd831c6",
   "metadata": {},
   "outputs": [
    {
     "name": "stdout",
     "output_type": "stream",
     "text": [
      "All images have been rotated by 180 degrees and saved to the 'flipped_images' directory.\n"
     ]
    }
   ],
   "source": [
    "import cv2\n",
    "import os\n",
    "\n",
    "# Define the directory containing images and the output directory\n",
    "image_dir = \"riley_images\"\n",
    "output_dir = \"flipped_images\"\n",
    "\n",
    "# Create the output directory if it doesn't exist\n",
    "os.makedirs(output_dir, exist_ok=True)\n",
    "\n",
    "# Loop through each file in the directory\n",
    "for filename in os.listdir(image_dir):\n",
    "    if filename.lower().endswith(('.jpg', '.jpeg', '.png', '.bmp', '.tiff')):  # Process common image formats\n",
    "        image_path = os.path.join(image_dir, filename)\n",
    "\n",
    "        # Read the image\n",
    "        image = cv2.imread(image_path)\n",
    "\n",
    "        # Rotate the image 180 degrees\n",
    "        flipped_image = cv2.rotate(image, cv2.ROTATE_180)\n",
    "\n",
    "        # Save the flipped image to the output directory\n",
    "        output_path = os.path.join(output_dir, filename)\n",
    "        cv2.imwrite(output_path, flipped_image)\n",
    "\n",
    "print(\"All images have been rotated by 180 degrees and saved to the 'flipped_images' directory.\")"
   ]
  },
  {
   "cell_type": "code",
   "execution_count": 2,
   "id": "68ac5b48-5daf-48f6-bc2c-c4f1ac6ca964",
   "metadata": {},
   "outputs": [
    {
     "name": "stdout",
     "output_type": "stream",
     "text": [
      "All images have been flipped horizontally and saved in the same directory.\n"
     ]
    }
   ],
   "source": [
    "import cv2\n",
    "import os\n",
    "\n",
    "# Define the directory containing images\n",
    "image_dir = \"flipped_images\"\n",
    "\n",
    "# Loop through each file in the directory\n",
    "for filename in os.listdir(image_dir):\n",
    "    if filename.lower().endswith(('.jpg', '.jpeg', '.png', '.bmp', '.tiff')):  # Process common image formats\n",
    "        image_path = os.path.join(image_dir, filename)\n",
    "\n",
    "        # Read the image\n",
    "        image = cv2.imread(image_path)\n",
    "\n",
    "        # Flip the image horizontally\n",
    "        flipped_image = cv2.flip(image, 1)\n",
    "\n",
    "        # Save the flipped image back to the same directory\n",
    "        cv2.imwrite(image_path, flipped_image)\n",
    "\n",
    "print(\"All images have been flipped horizontally and saved in the same directory.\")"
   ]
  },
  {
   "cell_type": "code",
   "execution_count": null,
   "id": "4eb2e821-c09a-4290-a9f0-5e81316238b7",
   "metadata": {},
   "outputs": [],
   "source": []
  }
 ],
 "metadata": {
  "kernelspec": {
   "display_name": "Python 3 (ipykernel)",
   "language": "python",
   "name": "python3"
  },
  "language_info": {
   "codemirror_mode": {
    "name": "ipython",
    "version": 3
   },
   "file_extension": ".py",
   "mimetype": "text/x-python",
   "name": "python",
   "nbconvert_exporter": "python",
   "pygments_lexer": "ipython3",
   "version": "3.12.7"
  }
 },
 "nbformat": 4,
 "nbformat_minor": 5
}
