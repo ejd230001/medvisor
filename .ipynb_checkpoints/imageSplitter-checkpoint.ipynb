{
 "cells": [
  {
   "cell_type": "code",
   "execution_count": 1,
   "id": "e66d0439-06f4-4dfd-8705-28cf0329db0e",
   "metadata": {},
   "outputs": [
    {
     "name": "stdout",
     "output_type": "stream",
     "text": [
      "All red boxes have been extracted and saved as separate images in the 'split_discs' directory.\n"
     ]
    }
   ],
   "source": [
    "import cv2\n",
    "import numpy as np\n",
    "import os\n",
    "\n",
    "# Define the input and output directories\n",
    "input_dir = \"good\"\n",
    "output_dir = \"split_discs\"\n",
    "os.makedirs(output_dir, exist_ok=True)\n",
    "\n",
    "# Loop through each image in the input directory\n",
    "for filename in os.listdir(input_dir):\n",
    "    if filename.endswith(\".png\"):  # Adjust the extension as needed\n",
    "        image_path = os.path.join(input_dir, filename)\n",
    "        \n",
    "        # Extract just the [patient#]_t1/t2 part from the filename\n",
    "        base_name = filename.split(\"original_with_boxes_\")[-1].replace(\".png\", \"\")\n",
    "        \n",
    "        # Load and process the image\n",
    "        image = cv2.imread(image_path)\n",
    "        hsv = cv2.cvtColor(image, cv2.COLOR_BGR2HSV)\n",
    "        \n",
    "        # Apply the red color mask\n",
    "        lower_red1 = np.array([0, 120, 70])\n",
    "        upper_red1 = np.array([10, 255, 255])\n",
    "        lower_red2 = np.array([170, 120, 70])\n",
    "        upper_red2 = np.array([180, 255, 255])\n",
    "        mask1 = cv2.inRange(hsv, lower_red1, upper_red1)\n",
    "        mask2 = cv2.inRange(hsv, lower_red2, upper_red2)\n",
    "        mask = mask1 + mask2\n",
    "        \n",
    "        # Find contours\n",
    "        contours, _ = cv2.findContours(mask, cv2.RETR_EXTERNAL, cv2.CHAIN_APPROX_SIMPLE)\n",
    "        \n",
    "        # Sort contours from top to bottom\n",
    "        contours = sorted(contours, key=lambda c: cv2.boundingRect(c)[1])\n",
    "        \n",
    "        # Save each red box as a separate image\n",
    "        for i, contour in enumerate(contours):\n",
    "            x, y, w, h = cv2.boundingRect(contour)\n",
    "            red_box = image[y:y+h, x:x+w]\n",
    "            output_path = os.path.join(output_dir, f\"{base_name}_disc_{i + 1}.png\")\n",
    "            cv2.imwrite(output_path, red_box)\n",
    "\n",
    "print(\"All red boxes have been extracted and saved as separate images in the 'split_discs' directory.\")"
   ]
  },
  {
   "cell_type": "code",
   "execution_count": 5,
   "id": "ff8472eb-7dc7-4e21-a581-fcb42fc4337b",
   "metadata": {},
   "outputs": [
    {
     "name": "stdout",
     "output_type": "stream",
     "text": [
      "{'disc_1.png': {'Modic': 0, 'UP endplate': 0, 'LOW endplate': 0, 'Spondylolisthesis': 0, 'Disc herniation': 0, 'Disc narrowing': 0, 'Disc bulging': 1, 'Pfirrman grade': 4}, 'disc_2.png': {'Modic': 0, 'UP endplate': 0, 'LOW endplate': 0, 'Spondylolisthesis': 0, 'Disc herniation': 0, 'Disc narrowing': 0, 'Disc bulging': 1, 'Pfirrman grade': 3}, 'disc_3.png': {'Modic': 0, 'UP endplate': 0, 'LOW endplate': 0, 'Spondylolisthesis': 0, 'Disc herniation': 0, 'Disc narrowing': 0, 'Disc bulging': 1, 'Pfirrman grade': 4}, 'disc_4.png': {'Modic': 0, 'UP endplate': 0, 'LOW endplate': 0, 'Spondylolisthesis': 0, 'Disc herniation': 0, 'Disc narrowing': 0, 'Disc bulging': 0, 'Pfirrman grade': 2}, 'disc_5.png': {'Modic': 0, 'UP endplate': 1, 'LOW endplate': 0, 'Spondylolisthesis': 0, 'Disc herniation': 0, 'Disc narrowing': 0, 'Disc bulging': 0, 'Pfirrman grade': 2}, 'disc_6.png': {'Modic': 0, 'UP endplate': 1, 'LOW endplate': 1, 'Spondylolisthesis': 0, 'Disc herniation': 0, 'Disc narrowing': 0, 'Disc bulging': 0, 'Pfirrman grade': 2}}\n"
     ]
    }
   ],
   "source": [
    "import pandas as pd\n",
    "\n",
    "# Load the CSV file\n",
    "file_path = 'radiological_gradings.csv'\n",
    "gradings_df = pd.read_csv(file_path)\n",
    "\n",
    "# Filter the dataframe to include only rows for Patient 203\n",
    "patient_203_df = gradings_df[gradings_df['Patient'] == 203]\n",
    "\n",
    "# Define columns to include in the array aside from Patient ID and IVD label\n",
    "grading_columns = ['Modic', 'UP endplate', 'LOW endplate', 'Spondylolisthesis', \n",
    "                   'Disc herniation', 'Disc narrowing', 'Disc bulging', 'Pfirrman grade']\n",
    "\n",
    "# Filter for only the necessary columns\n",
    "patient_203_data = patient_203_df[grading_columns].to_dict(orient='records')\n",
    "\n",
    "# Associate each disc image with the grading data\n",
    "disc_image_data = {f\"disc_{i+1}.png\": patient_203_data[i] for i in range(len(patient_203_data))}\n",
    "\n",
    "# Display the final array mapping disc images to their grading information\n",
    "print(disc_image_data)"
   ]
  },
  {
   "cell_type": "code",
   "execution_count": 6,
   "id": "3bcfc051-fdeb-4fe5-be8b-b6e70ebd4fc5",
   "metadata": {},
   "outputs": [
    {
     "name": "stdout",
     "output_type": "stream",
     "text": [
      "Labels have been mapped to each image and stored in the corresponding lists.\n"
     ]
    }
   ],
   "source": [
    "import cv2\n",
    "import os\n",
    "import pandas as pd\n",
    "\n",
    "# Load the CSV file\n",
    "csv_path = 'radiological_gradings.csv'\n",
    "radiological_data = pd.read_csv(csv_path)\n",
    "\n",
    "# Initialize lists for each label\n",
    "pfirrman_grades = []\n",
    "modic_types = []\n",
    "up_endplates = []\n",
    "low_endplates = []\n",
    "disc_herniation = []\n",
    "disc_narrowing = []\n",
    "disc_bulging = []\n",
    "spondylolisthesis = []\n",
    "image_list = []  # For storing image data\n",
    "\n",
    "# Directory containing the disc images\n",
    "image_dir = \"split_discs\"\n",
    "\n",
    "# Loop through each image in the directory\n",
    "for filename in os.listdir(image_dir):\n",
    "    if filename.endswith(\".png\"):\n",
    "        # Parse patient number and IVD label from the filename\n",
    "        base_name = filename.replace(\".png\", \"\")\n",
    "        \n",
    "        # Split the filename and handle cases with additional parts\n",
    "        parts = base_name.split(\"_\")\n",
    "        patient_id = int(parts[0])           # First part is always the patient ID\n",
    "        scan_type = parts[-2]                # Second last part is the scan type (t1/t2)\n",
    "        ivd_label = int(parts[-1].replace(\"disc\", \"\"))  # Last part is the disc label\n",
    "        \n",
    "        # Find the corresponding row in the CSV\n",
    "        row = radiological_data[(radiological_data['Patient'] == patient_id) &\n",
    "                                (radiological_data['IVD label'] == ivd_label)]\n",
    "        \n",
    "        # Ensure the row exists and extract label values\n",
    "        if not row.empty:\n",
    "            # Append each label to its respective list\n",
    "            modic_types.append(row['Modic'].values[0])\n",
    "            up_endplates.append(row['UP endplate'].values[0])\n",
    "            low_endplates.append(row['LOW endplate'].values[0])\n",
    "            spondylolisthesis.append(row['Spondylolisthesis'].values[0])\n",
    "            disc_herniation.append(row['Disc herniation'].values[0])\n",
    "            disc_narrowing.append(row['Disc narrowing'].values[0])\n",
    "            disc_bulging.append(row['Disc bulging'].values[0])\n",
    "            pfirrman_grades.append(row['Pfirrman grade'].values[0])\n",
    "            \n",
    "            # Optionally load the image data if needed\n",
    "            image_path = os.path.join(image_dir, filename)\n",
    "            image = cv2.imread(image_path)\n",
    "            image_list.append(image)  # Or process as necessary\n",
    "\n",
    "print(\"Labels have been mapped to each image and stored in the corresponding lists.\")"
   ]
  },
  {
   "cell_type": "code",
   "execution_count": null,
   "id": "97403cde-1fce-458a-b7f6-2a2015709bf5",
   "metadata": {},
   "outputs": [],
   "source": []
  },
  {
   "cell_type": "code",
   "execution_count": null,
   "id": "e2898971-15dd-4e2d-b6c5-197b74f640f5",
   "metadata": {},
   "outputs": [],
   "source": []
  }
 ],
 "metadata": {
  "kernelspec": {
   "display_name": "Python 3 (ipykernel)",
   "language": "python",
   "name": "python3"
  },
  "language_info": {
   "codemirror_mode": {
    "name": "ipython",
    "version": 3
   },
   "file_extension": ".py",
   "mimetype": "text/x-python",
   "name": "python",
   "nbconvert_exporter": "python",
   "pygments_lexer": "ipython3",
   "version": "3.12.7"
  }
 },
 "nbformat": 4,
 "nbformat_minor": 5
}
