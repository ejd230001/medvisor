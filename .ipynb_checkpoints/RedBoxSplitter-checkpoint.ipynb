{
 "cells": [
  {
   "cell_type": "code",
   "execution_count": 4,
   "id": "e66d0439-06f4-4dfd-8705-28cf0329db0e",
   "metadata": {},
   "outputs": [
    {
     "name": "stdout",
     "output_type": "stream",
     "text": [
      "Red boxes have been extracted and saved as separate images in the 'red_boxes' directory.\n"
     ]
    }
   ],
   "source": [
    "import cv2\n",
    "import numpy as np\n",
    "import os\n",
    "\n",
    "# Load the image to split into different images\n",
    "image = cv2.imread(\"redboxes.png\") \n",
    "\n",
    "# Convert to HSV color space\n",
    "hsv = cv2.cvtColor(image, cv2.COLOR_BGR2HSV)\n",
    "\n",
    "# Define the red color range in HSV\n",
    "lower_red1 = np.array([0, 120, 70])\n",
    "upper_red1 = np.array([10, 255, 255])\n",
    "lower_red2 = np.array([170, 120, 70])\n",
    "upper_red2 = np.array([180, 255, 255])\n",
    "\n",
    "# Create masks for red color\n",
    "mask1 = cv2.inRange(hsv, lower_red1, upper_red1)\n",
    "mask2 = cv2.inRange(hsv, lower_red2, upper_red2)\n",
    "mask = mask1 + mask2\n",
    "\n",
    "# Find contours of red areas\n",
    "contours, _ = cv2.findContours(mask, cv2.RETR_EXTERNAL, cv2.CHAIN_APPROX_SIMPLE)\n",
    "\n",
    "# Sort contours from top to bottom by y-coordinate\n",
    "contours = sorted(contours, key=lambda c: cv2.boundingRect(c)[1])\n",
    "\n",
    "# Create output directory for cropped images\n",
    "output_dir = \"split_discs\"\n",
    "os.makedirs(output_dir, exist_ok=True)\n",
    "\n",
    "# Loop through each contour and save the bounding boxes as separate images\n",
    "for i, contour in enumerate(contours):\n",
    "    x, y, w, h = cv2.boundingRect(contour)\n",
    "    red_box = image[y:y+h, x:x+w]\n",
    "    output_path = os.path.join(output_dir, f\"disc_{i + 1}.png\")\n",
    "    cv2.imwrite(output_path, red_box)\n",
    "\n",
    "print(\"Red boxes have been extracted and saved as separate images in the 'split_discs' directory.\")"
   ]
  },
  {
   "cell_type": "code",
   "execution_count": 5,
   "id": "ff8472eb-7dc7-4e21-a581-fcb42fc4337b",
   "metadata": {},
   "outputs": [
    {
     "name": "stdout",
     "output_type": "stream",
     "text": [
      "{'disc_1.png': {'Modic': 0, 'UP endplate': 0, 'LOW endplate': 0, 'Spondylolisthesis': 0, 'Disc herniation': 0, 'Disc narrowing': 0, 'Disc bulging': 1, 'Pfirrman grade': 4}, 'disc_2.png': {'Modic': 0, 'UP endplate': 0, 'LOW endplate': 0, 'Spondylolisthesis': 0, 'Disc herniation': 0, 'Disc narrowing': 0, 'Disc bulging': 1, 'Pfirrman grade': 3}, 'disc_3.png': {'Modic': 0, 'UP endplate': 0, 'LOW endplate': 0, 'Spondylolisthesis': 0, 'Disc herniation': 0, 'Disc narrowing': 0, 'Disc bulging': 1, 'Pfirrman grade': 4}, 'disc_4.png': {'Modic': 0, 'UP endplate': 0, 'LOW endplate': 0, 'Spondylolisthesis': 0, 'Disc herniation': 0, 'Disc narrowing': 0, 'Disc bulging': 0, 'Pfirrman grade': 2}, 'disc_5.png': {'Modic': 0, 'UP endplate': 1, 'LOW endplate': 0, 'Spondylolisthesis': 0, 'Disc herniation': 0, 'Disc narrowing': 0, 'Disc bulging': 0, 'Pfirrman grade': 2}, 'disc_6.png': {'Modic': 0, 'UP endplate': 1, 'LOW endplate': 1, 'Spondylolisthesis': 0, 'Disc herniation': 0, 'Disc narrowing': 0, 'Disc bulging': 0, 'Pfirrman grade': 2}}\n"
     ]
    }
   ],
   "source": [
    "import pandas as pd\n",
    "\n",
    "# Load the CSV file\n",
    "file_path = 'radiological_gradings.csv'\n",
    "gradings_df = pd.read_csv(file_path)\n",
    "\n",
    "# Filter the dataframe to include only rows for Patient 203\n",
    "patient_203_df = gradings_df[gradings_df['Patient'] == 203]\n",
    "\n",
    "# Define columns to include in the array aside from Patient ID and IVD label\n",
    "grading_columns = ['Modic', 'UP endplate', 'LOW endplate', 'Spondylolisthesis', \n",
    "                   'Disc herniation', 'Disc narrowing', 'Disc bulging', 'Pfirrman grade']\n",
    "\n",
    "# Filter for only the necessary columns\n",
    "patient_203_data = patient_203_df[grading_columns].to_dict(orient='records')\n",
    "\n",
    "# Associate each disc image with the grading data\n",
    "disc_image_data = {f\"disc_{i+1}.png\": patient_203_data[i] for i in range(len(patient_203_data))}\n",
    "\n",
    "# Display the final array mapping disc images to their grading information\n",
    "print(disc_image_data)"
   ]
  },
  {
   "cell_type": "code",
   "execution_count": null,
   "id": "3bcfc051-fdeb-4fe5-be8b-b6e70ebd4fc5",
   "metadata": {},
   "outputs": [],
   "source": []
  }
 ],
 "metadata": {
  "kernelspec": {
   "display_name": "Python 3 (ipykernel)",
   "language": "python",
   "name": "python3"
  },
  "language_info": {
   "codemirror_mode": {
    "name": "ipython",
    "version": 3
   },
   "file_extension": ".py",
   "mimetype": "text/x-python",
   "name": "python",
   "nbconvert_exporter": "python",
   "pygments_lexer": "ipython3",
   "version": "3.12.7"
  }
 },
 "nbformat": 4,
 "nbformat_minor": 5
}
