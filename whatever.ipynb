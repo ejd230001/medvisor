{
 "cells": [
  {
   "cell_type": "code",
   "execution_count": null,
   "id": "38c6199c-e44b-4a72-97f0-d67081516d55",
   "metadata": {},
   "outputs": [],
   "source": [
    "import pandas as pd\n",
    "import os\n",
    "from PIL import Image\n",
    "import numpy as np\n",
    "import tensorflow as tf\n",
    "from tensorflow.keras.applications import ResNet50\n",
    "from tensorflow.keras.models import Model\n",
    "from tensorflow.keras.layers import Dense, GlobalAveragePooling2D\n",
    "from tensorflow.keras.optimizers import Adam\n",
    "from tensorflow.keras.preprocessing.image import ImageDataGenerator\n",
    "import matplotlib.pyplot as plt\n",
    "from tensorflow.keras.utils import to_categorical\n",
    "import re\n",
    "from tensorflow.keras.applications.resnet50 import preprocess_input"
   ]
  },
  {
   "cell_type": "code",
   "execution_count": null,
   "id": "89534b51-77a7-4316-9e85-a263fc38ba06",
   "metadata": {},
   "outputs": [],
   "source": [
    "df = pd.read_csv(\"transformed_radiological_gradings_updated.csv\")"
   ]
  },
  {
   "cell_type": "code",
   "execution_count": null,
   "id": "c1dfe9a2-232b-4d9e-8d5e-398f016fade6",
   "metadata": {},
   "outputs": [],
   "source": [
    "image_folder = \"all_images\""
   ]
  },
  {
   "cell_type": "code",
   "execution_count": null,
   "id": "18b8d36d-f740-4f37-9ad4-905047a1eb06",
   "metadata": {},
   "outputs": [],
   "source": [
    "image_list = []\n",
    "label_list = []\n",
    "\n",
    "for image_filename in os.listdir(image_folder):\n",
    "    if image_filename.endswith(\".png\"):\n",
    "        patient_number = re.search(r'^(\\d+)_', image_filename).group(1)\n",
    "        patient_row = df[df['Patient'] == int(patient_number)]\n",
    "        image = Image.open(os.path.join(image_folder, image_filename))\n",
    "\n",
    "        # Resize image to 224x224 pixels\n",
    "        image = image.resize((224,224))\n",
    "\n",
    "        # Convert image to RGB\n",
    "        image = image.convert(\"RGB\")\n",
    "\n",
    "        # Convert the image to numpy array\n",
    "        image_array = np.array(image)\n",
    "\n",
    "        # Normalize array\n",
    "        image_array = preprocess_input(image_array)\n",
    "\n",
    "        image_list.append(image_array)\n",
    "        labels = patient_row.iloc[0].values[1:]\n",
    "        label_list.append(labels)\n",
    "        \n",
    "        #print(f\"Image: {image_filename}, Patient Data: {labels}\")\n",
    "\n",
    "image_list_np = np.array(image_list)"
   ]
  },
  {
   "cell_type": "code",
   "execution_count": null,
   "id": "b4c3d946-c4b2-4d19-a6d0-3bda7fc39d71",
   "metadata": {},
   "outputs": [],
   "source": [
    "modic_labels = [row[0] for row in label_list]\n",
    "up_endplate_labels = [row[1] for row in label_list]\n",
    "low_endplate_labels = [row[2] for row in label_list]\n",
    "spondylolisthesis_labels = [row[3] for row in label_list]\n",
    "herniation_labels = [row[4] for row in label_list]\n",
    "narrowing_labels = [row[5] for row in label_list]\n",
    "bulging_labels = [row[6] for row in label_list]\n",
    "pfirrman_labels = [row[7] for row in label_list]"
   ]
  },
  {
   "cell_type": "code",
   "execution_count": null,
   "id": "f4011ab7-fffe-462c-a84d-3143ac00e870",
   "metadata": {},
   "outputs": [],
   "source": [
    "label_dict = {\n",
    "    'disc_herniation': np.array(herniation_labels),\n",
    "    'disc_narrowing': np.array(narrowing_labels),\n",
    "    'disc_bulging': np.array(bulging_labels),\n",
    "    'pfirrman_grade': np.array(pfirrman_labels),\n",
    "    'up_endplate': np.array(up_endplate_labels),\n",
    "    'low_endplate': np.array(low_endplate_labels),\n",
    "    'spondylolisthesis': np.array(spondylolisthesis_labels),\n",
    "    #'modic_type': np.array(modic_labels_one_hot)\n",
    "}"
   ]
  },
  {
   "cell_type": "code",
   "execution_count": null,
   "id": "6fc83888-1ba6-4d6f-9859-14b1f8a9b1b9",
   "metadata": {},
   "outputs": [],
   "source": [
    "base_model = ResNet50(weights='imagenet', include_top=False, input_shape=(224, 224, 3))\n",
    "for layer in base_model.layers:\n",
    "    layer.trainable=False"
   ]
  },
  {
   "cell_type": "code",
   "execution_count": null,
   "id": "0ce158e5-c9ea-4d28-ae36-225e61c3c166",
   "metadata": {},
   "outputs": [],
   "source": [
    "x = base_model.output\n",
    "x = GlobalAveragePooling2D()(x)"
   ]
  },
  {
   "cell_type": "code",
   "execution_count": null,
   "id": "e506dc61-d4af-4d7c-b679-66e284305307",
   "metadata": {},
   "outputs": [],
   "source": [
    "herniation_output = Dense(1, activation='sigmoid', name='disc_herniation')(x)\n",
    "narrowing_output = Dense(1, activation='sigmoid', name='disc_narrowing')(x)\n",
    "bulging_output = Dense(1, activation='sigmoid', name='disc_bulging')(x)\n",
    "#modic_output = Dense(4, activation='softmax', name='modic_type')(x)\n",
    "pfirrman_output = Dense(1, activation='linear', name='pfirrman_grade')(x)\n",
    "up_endplate_output = Dense(1, activation='sigmoid', name='up_endplate')(x)\n",
    "low_endplate_output = Dense(1, activation='sigmoid', name='low_endplate')(x)\n",
    "spondylolisthesis_output = Dense(1, activation='sigmoid', name='spondylolisthesis')(x)"
   ]
  },
  {
   "cell_type": "code",
   "execution_count": null,
   "id": "c84f04f6-4c98-4dde-8481-64b14a27b0c5",
   "metadata": {},
   "outputs": [],
   "source": [
    "model = Model(inputs=base_model.input, outputs=[\n",
    "    herniation_output,\n",
    "    narrowing_output,\n",
    "    bulging_output,\n",
    "    #modic_output,\n",
    "    pfirrman_output,\n",
    "    up_endplate_output,\n",
    "    low_endplate_output,\n",
    "    spondylolisthesis_output\n",
    "])"
   ]
  },
  {
   "cell_type": "code",
   "execution_count": null,
   "id": "18ccf9ac-8317-4284-806a-c967347c9a51",
   "metadata": {},
   "outputs": [],
   "source": [
    "optimizer = Adam(learning_rate=0.0001)\n",
    "model.compile(\n",
    "    optimizer=optimizer,\n",
    "    loss={\n",
    "        'disc_herniation': 'binary_crossentropy',\n",
    "        'disc_narrowing': 'binary_crossentropy',\n",
    "        'disc_bulging': 'binary_crossentropy',\n",
    "        #'modic_type': 'sparse_categorical_crossentropy',\n",
    "        'pfirrman_grade': 'mean_squared_error',\n",
    "        'up_endplate': 'binary_crossentropy',\n",
    "        'low_endplate': 'binary_crossentropy',\n",
    "        'spondylolisthesis': 'binary_crossentropy'\n",
    "    },\n",
    "    metrics={\n",
    "        'disc_herniation': 'accuracy',\n",
    "        'disc_narrowing': 'accuracy',\n",
    "        'disc_bulging': 'accuracy',\n",
    "        #'modic_type': 'accuracy',\n",
    "        'pfirrman_grade': 'mae',\n",
    "        'up_endplate': 'accuracy',\n",
    "        'low_endplate': 'accuracy',\n",
    "        'spondylolisthesis': 'accuracy'\n",
    "    }\n",
    ")"
   ]
  },
  {
   "cell_type": "code",
   "execution_count": null,
   "id": "b2a689a4-1f71-4530-99e9-3b7c54958978",
   "metadata": {},
   "outputs": [],
   "source": []
  },
  {
   "cell_type": "code",
   "execution_count": null,
   "id": "7eb86fb3-a4ed-45c4-be13-dbacad4ed77f",
   "metadata": {},
   "outputs": [],
   "source": [
    "#modic_labels_one_hot = to_categorical(modic_labels, num_classes=4)"
   ]
  },
  {
   "cell_type": "code",
   "execution_count": null,
   "id": "30b07f5f-bc19-400e-9d45-02eb710b81e7",
   "metadata": {},
   "outputs": [],
   "source": [
    "print(\"First Image Shape:\", image_list[0].shape)\n",
    "#print(\"Modic Labels (One-Hot):\", modic_labels_one_hot[0])\n",
    "print(\"UP Endplate Label:\", up_endplate_labels[0])\n",
    "print(\"LOW Endplate Label:\", low_endplate_labels[0])\n",
    "print(\"Spondylolisthesis Label:\", spondylolisthesis_labels[0])\n",
    "print(\"Disc Herniation Label:\", herniation_labels[0])\n",
    "print(\"Disc Narrowing Label:\", narrowing_labels[0])\n",
    "print(\"Disc Bulging Label:\", bulging_labels[0])\n",
    "print(\"Pfirmann Label:\", pfirrman_labels[0])"
   ]
  },
  {
   "cell_type": "code",
   "execution_count": null,
   "id": "740e9473-6f95-4079-af57-3f7da2bebefe",
   "metadata": {},
   "outputs": [],
   "source": [
    "label_dict = {\n",
    "    'disc_herniation': np.array(herniation_labels),\n",
    "    'disc_narrowing': np.array(narrowing_labels),\n",
    "    'disc_bulging': np.array(bulging_labels),\n",
    "    'pfirrman_grade': np.array(pfirrman_labels),\n",
    "    'up_endplate': np.array(up_endplate_labels),\n",
    "    'low_endplate': np.array(low_endplate_labels),\n",
    "    'spondylolisthesis': np.array(spondylolisthesis_labels),\n",
    "    #'modic_type': np.array(modic_labels_one_hot)\n",
    "}"
   ]
  },
  {
   "cell_type": "code",
   "execution_count": null,
   "id": "00687ee4-5210-4cc1-b708-26e6455f1cf3",
   "metadata": {},
   "outputs": [],
   "source": [
    "history = model.fit(\n",
    "    image_list_np, label_dict,\n",
    "    batch_size=32,\n",
    "    epochs=100,\n",
    "    verbose=1\n",
    ")"
   ]
  },
  {
   "cell_type": "code",
   "execution_count": null,
   "id": "1a0481a0-6dc5-41a5-b617-64a674bc0ad9",
   "metadata": {},
   "outputs": [],
   "source": [
    "print(image_list_np.shape)\n",
    "print(np.array(modic_labels_one_hot).shape)"
   ]
  },
  {
   "cell_type": "code",
   "execution_count": null,
   "id": "38d9fe3c-029d-4c2f-aafa-8959b092adfa",
   "metadata": {},
   "outputs": [],
   "source": [
    "for key, value in label_dict.items():\n",
    "    print(f\"{key} Shape:\", np.array(value).shape)"
   ]
  },
  {
   "cell_type": "code",
   "execution_count": null,
   "id": "787fe8ac-0878-4c49-a22f-bbc042cccf36",
   "metadata": {},
   "outputs": [],
   "source": [
    "image = Image.open(os.path.join(image_folder, '100_t1.png'))\n",
    "\n",
    "# Resize image to 224x224 pixels\n",
    "image_resized = image.resize((224,224))\n",
    "\n",
    "# Convert image to RGB\n",
    "image_recolored = image_resized.convert(\"RGB\")\n",
    "\n",
    "# Convert the image to numpy array\n",
    "image_array = np.array(image_recolored)\n",
    "\n",
    "# Normalize array\n",
    "image_array = preprocess_input(image_array)\n",
    "image_array = np.expand_dims(image_array, 0)\n",
    "predictions = model.predict(image_array)"
   ]
  },
  {
   "cell_type": "code",
   "execution_count": null,
   "id": "69178915-dd7a-49bb-9f17-31a0759639fd",
   "metadata": {},
   "outputs": [],
   "source": [
    "print(\"Disc Herniation: \")\n",
    "print(predictions[0][0][0])\n",
    "print(\"Disc Narrowing: \")\n",
    "print(predictions[1][0][0])\n",
    "print(\"Disc Bulging: \")\n",
    "print(predictions[2][0][0])\n",
    "print(\"Pfirmann Grade: \")\n",
    "print(predictions[3][0][0])\n",
    "print(\"Up-Endplate: \")\n",
    "print(predictions[4][0][0])\n",
    "print(\"Low-Endplate: \")\n",
    "print(predictions[5][0][0])\n",
    "print(\"Spondylo: \")\n",
    "print(predictions[6][0][0])\n"
   ]
  },
  {
   "cell_type": "code",
   "execution_count": null,
   "id": "0f82739b-1c01-4397-92f1-139eca87d4f4",
   "metadata": {},
   "outputs": [],
   "source": [
    "model.summary()"
   ]
  },
  {
   "cell_type": "code",
   "execution_count": null,
   "id": "b9464de8-f5be-478b-bb60-3f13f7b34665",
   "metadata": {},
   "outputs": [],
   "source": []
  }
 ],
 "metadata": {
  "kernelspec": {
   "display_name": "Python 3 (ipykernel)",
   "language": "python",
   "name": "python3"
  },
  "language_info": {
   "codemirror_mode": {
    "name": "ipython",
    "version": 3
   },
   "file_extension": ".py",
   "mimetype": "text/x-python",
   "name": "python",
   "nbconvert_exporter": "python",
   "pygments_lexer": "ipython3",
   "version": "3.12.7"
  }
 },
 "nbformat": 4,
 "nbformat_minor": 5
}
