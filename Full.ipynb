{
 "cells": [
  {
   "cell_type": "code",
   "execution_count": 3,
   "id": "99a8eb23-da03-4f12-9923-761b903f4986",
   "metadata": {},
   "outputs": [],
   "source": [
    "import pandas as pd\n",
    "import os\n",
    "from PIL import Image\n",
    "import numpy as np\n",
    "import tensorflow as tf\n",
    "from tensorflow.keras.applications import ResNet50\n",
    "from tensorflow.keras.models import Model\n",
    "from tensorflow.keras.layers import Dense, GlobalAveragePooling2D\n",
    "from tensorflow.keras.optimizers import Adam\n",
    "from tensorflow.keras.preprocessing.image import ImageDataGenerator\n",
    "import matplotlib.pyplot as plt\n",
    "from tensorflow.keras.utils import to_categorical\n",
    "from tensorflow.keras.applications.resnet50 import preprocess_input\n",
    "from collections import OrderedDict\n",
    "from tensorflow.keras.models import load_model"
   ]
  },
  {
   "cell_type": "code",
   "execution_count": 4,
   "id": "50ca68fd-46a9-4063-8c65-1ede77ef020c",
   "metadata": {},
   "outputs": [],
   "source": [
    "nonBinaryModel = load_model('nonBinaryPredictions.keras')\n",
    "binaryModel = load_model('binaryPredictions.keras')"
   ]
  },
  {
   "cell_type": "code",
   "execution_count": 17,
   "id": "729ab206-c44b-4262-b922-3e895a7821e6",
   "metadata": {},
   "outputs": [],
   "source": [
    "test_image_path = 'all_images/herniation.png'\n",
    "\n",
    "# Load, resize, and preprocess the test image\n",
    "img = Image.open(test_image_path).convert('RGB')\n",
    "img_resized = img.resize((224, 224))\n",
    "img_array = np.array(img_resized)\n",
    "\n",
    "# Preprocess the image for ResNet50\n",
    "img_preprocessed = tf.keras.applications.resnet50.preprocess_input(img_array)\n",
    "img_preprocessed = np.expand_dims(img_preprocessed, axis=0)  # Add batch dimension"
   ]
  },
  {
   "cell_type": "code",
   "execution_count": 18,
   "id": "ec0f9660-5f78-4a92-bcf3-2707f9125937",
   "metadata": {},
   "outputs": [
    {
     "name": "stdout",
     "output_type": "stream",
     "text": [
      "\u001b[1m1/1\u001b[0m \u001b[32m━━━━━━━━━━━━━━━━━━━━\u001b[0m\u001b[37m\u001b[0m \u001b[1m0s\u001b[0m 119ms/step\n",
      "\u001b[1m1/1\u001b[0m \u001b[32m━━━━━━━━━━━━━━━━━━━━\u001b[0m\u001b[37m\u001b[0m \u001b[1m0s\u001b[0m 91ms/step\n",
      "Predicted Pfirrman grade: 2\n",
      "Predicted Modic: 1\n",
      "Probability of Up-Endplate: 0.011032533831894398\n",
      "Probability of Low-Endplate: 0.04558227211236954\n",
      "Probability of Disc-Herniation: 1.6841201766482072e-09\n",
      "Probability of Disc-Narrowing: 6.99244537827326e-06\n",
      "Probability of Disc-Bulging: 0.018223430961370468\n",
      "Probability of Spondylolisthesis: 1.0119467302496792e-21\n"
     ]
    }
   ],
   "source": [
    "nonBinaryPredictions = nonBinaryModel.predict(img_preprocessed)\n",
    "binaryPredictions = binaryModel.predict(img_preprocessed)\n",
    "predicted_pfirrman = np.argmax(nonBinaryPredictions[0]) + 1  # Add 1 if classes are 1-5\n",
    "predicted_modic = np.argmax(nonBinaryPredictions[1])\n",
    "print(f\"Predicted Pfirrman grade: {predicted_pfirrman}\")\n",
    "print(f\"Predicted Modic: {predicted_modic}\")\n",
    "print(f\"Probability of Up-Endplate: {binaryPredictions[0][0][0]}\")\n",
    "print(f\"Probability of Low-Endplate: {binaryPredictions[1][0][0]}\")\n",
    "print(f\"Probability of Disc-Herniation: {binaryPredictions[2][0][0]}\")\n",
    "print(f\"Probability of Disc-Narrowing: {binaryPredictions[3][0][0]}\")\n",
    "print(f\"Probability of Disc-Bulging: {binaryPredictions[4][0][0]}\")\n",
    "print(f\"Probability of Spondylolisthesis: {binaryPredictions[5][0][0]}\")"
   ]
  },
  {
   "cell_type": "code",
   "execution_count": null,
   "id": "b259adc4-b895-4774-b35e-6dd2ed054d1a",
   "metadata": {},
   "outputs": [],
   "source": []
  },
  {
   "cell_type": "code",
   "execution_count": null,
   "id": "fe3dc436-35d9-4c29-b39d-abb2112cdac0",
   "metadata": {},
   "outputs": [],
   "source": []
  }
 ],
 "metadata": {
  "kernelspec": {
   "display_name": "Python 3 (ipykernel)",
   "language": "python",
   "name": "python3"
  },
  "language_info": {
   "codemirror_mode": {
    "name": "ipython",
    "version": 3
   },
   "file_extension": ".py",
   "mimetype": "text/x-python",
   "name": "python",
   "nbconvert_exporter": "python",
   "pygments_lexer": "ipython3",
   "version": "3.12.7"
  }
 },
 "nbformat": 4,
 "nbformat_minor": 5
}
